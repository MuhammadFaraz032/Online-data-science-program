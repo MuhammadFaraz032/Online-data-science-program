{
 "cells": [
  {
   "cell_type": "code",
   "execution_count": 1,
   "id": "f03444db",
   "metadata": {},
   "outputs": [
    {
     "name": "stdout",
     "output_type": "stream",
     "text": [
      "3\n"
     ]
    }
   ],
   "source": [
    "x =5;\n",
    "y=3\n",
    "x,y=y,x;\n",
    "print(x);"
   ]
  },
  {
   "cell_type": "code",
   "execution_count": 3,
   "id": "bdb49359",
   "metadata": {},
   "outputs": [
    {
     "name": "stdout",
     "output_type": "stream",
     "text": [
      "faraz\n"
     ]
    }
   ],
   "source": [
    "a=\"faraz\";\n",
    "print(a);"
   ]
  },
  {
   "cell_type": "code",
   "execution_count": 4,
   "id": "df6091b9",
   "metadata": {},
   "outputs": [
    {
     "name": "stdout",
     "output_type": "stream",
     "text": [
      "faraznawaz\n"
     ]
    }
   ],
   "source": [
    "a=\"faraz\";\n",
    "b=\"nawaz\";\n",
    "r=a+b;\n",
    "print(r);"
   ]
  },
  {
   "cell_type": "code",
   "execution_count": null,
   "id": "a28d9123",
   "metadata": {},
   "outputs": [],
   "source": []
  }
 ],
 "metadata": {
  "kernelspec": {
   "display_name": "Python 3 (ipykernel)",
   "language": "python",
   "name": "python3"
  },
  "language_info": {
   "codemirror_mode": {
    "name": "ipython",
    "version": 3
   },
   "file_extension": ".py",
   "mimetype": "text/x-python",
   "name": "python",
   "nbconvert_exporter": "python",
   "pygments_lexer": "ipython3",
   "version": "3.9.7"
  }
 },
 "nbformat": 4,
 "nbformat_minor": 5
}
